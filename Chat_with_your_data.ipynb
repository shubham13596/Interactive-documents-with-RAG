{
 "cells": [
  {
   "cell_type": "code",
   "execution_count": 1,
   "id": "da2a763e",
   "metadata": {},
   "outputs": [],
   "source": [
    "import os\n",
    "import openai\n",
    "import sys\n",
    "sys.path.append('../..')\n",
    "\n",
    "from dotenv import load_dotenv, find_dotenv\n",
    "_ = load_dotenv(find_dotenv()) # read local .env file\n",
    "\n",
    "#openai.api_key  = os.environ['OPENAI_API_KEY']\n",
    "os.environ['OPENAI_API_KEY'] = 'your-api-key'
   ]
  },
  {
   "cell_type": "code",
   "execution_count": 2,
   "id": "9299824b",
   "metadata": {
    "collapsed": true
   },
   "outputs": [
    {
     "name": "stdout",
     "output_type": "stream",
     "text": [
      "Requirement already satisfied: openai in c:\\users\\shubhamgupta8\\anaconda3\\lib\\site-packages (1.7.0)\n",
      "Requirement already satisfied: sniffio in c:\\users\\shubhamgupta8\\anaconda3\\lib\\site-packages (from openai) (1.2.0)\n",
      "Requirement already satisfied: pydantic<3,>=1.9.0 in c:\\users\\shubhamgupta8\\anaconda3\\lib\\site-packages (from openai) (2.3.0)\n",
      "Requirement already satisfied: httpx<1,>=0.23.0 in c:\\users\\shubhamgupta8\\anaconda3\\lib\\site-packages (from openai) (0.25.0)\n",
      "Requirement already satisfied: anyio<5,>=3.5.0 in c:\\users\\shubhamgupta8\\anaconda3\\lib\\site-packages (from openai) (3.7.1)\n",
      "Requirement already satisfied: distro<2,>=1.7.0 in c:\\users\\shubhamgupta8\\anaconda3\\lib\\site-packages (from openai) (1.9.0)\n",
      "Requirement already satisfied: tqdm>4 in c:\\users\\shubhamgupta8\\anaconda3\\lib\\site-packages (from openai) (4.66.1)\n",
      "Requirement already satisfied: typing-extensions<5,>=4.7 in c:\\users\\shubhamgupta8\\anaconda3\\lib\\site-packages (from openai) (4.7.1)\n",
      "Requirement already satisfied: idna>=2.8 in c:\\users\\shubhamgupta8\\anaconda3\\lib\\site-packages (from anyio<5,>=3.5.0->openai) (3.3)\n",
      "Requirement already satisfied: exceptiongroup in c:\\users\\shubhamgupta8\\anaconda3\\lib\\site-packages (from anyio<5,>=3.5.0->openai) (1.1.3)\n",
      "Requirement already satisfied: certifi in c:\\users\\shubhamgupta8\\anaconda3\\lib\\site-packages (from httpx<1,>=0.23.0->openai) (2022.9.14)\n",
      "Requirement already satisfied: httpcore<0.19.0,>=0.18.0 in c:\\users\\shubhamgupta8\\anaconda3\\lib\\site-packages (from httpx<1,>=0.23.0->openai) (0.18.0)\n",
      "Requirement already satisfied: annotated-types>=0.4.0 in c:\\users\\shubhamgupta8\\anaconda3\\lib\\site-packages (from pydantic<3,>=1.9.0->openai) (0.5.0)\n",
      "Requirement already satisfied: pydantic-core==2.6.3 in c:\\users\\shubhamgupta8\\anaconda3\\lib\\site-packages (from pydantic<3,>=1.9.0->openai) (2.6.3)\n",
      "Requirement already satisfied: colorama in c:\\users\\shubhamgupta8\\anaconda3\\lib\\site-packages (from tqdm>4->openai) (0.4.5)\n",
      "Requirement already satisfied: h11<0.15,>=0.13 in c:\\users\\shubhamgupta8\\anaconda3\\lib\\site-packages (from httpcore<0.19.0,>=0.18.0->httpx<1,>=0.23.0->openai) (0.14.0)\n"
     ]
    }
   ],
   "source": [
    "!pip install openai"
   ]
  },
  {
   "cell_type": "code",
   "execution_count": 3,
   "id": "6731b4a4",
   "metadata": {
    "collapsed": true
   },
   "outputs": [
    {
     "name": "stdout",
     "output_type": "stream",
     "text": [
      "Requirement already satisfied: openai in c:\\users\\shubhamgupta8\\anaconda3\\lib\\site-packages (1.7.0)\n",
      "Requirement already satisfied: distro<2,>=1.7.0 in c:\\users\\shubhamgupta8\\anaconda3\\lib\\site-packages (from openai) (1.9.0)\n",
      "Requirement already satisfied: httpx<1,>=0.23.0 in c:\\users\\shubhamgupta8\\anaconda3\\lib\\site-packages (from openai) (0.25.0)\n",
      "Requirement already satisfied: anyio<5,>=3.5.0 in c:\\users\\shubhamgupta8\\anaconda3\\lib\\site-packages (from openai) (3.7.1)\n",
      "Requirement already satisfied: pydantic<3,>=1.9.0 in c:\\users\\shubhamgupta8\\anaconda3\\lib\\site-packages (from openai) (2.3.0)\n",
      "Requirement already satisfied: tqdm>4 in c:\\users\\shubhamgupta8\\anaconda3\\lib\\site-packages (from openai) (4.66.1)\n",
      "Requirement already satisfied: typing-extensions<5,>=4.7 in c:\\users\\shubhamgupta8\\anaconda3\\lib\\site-packages (from openai) (4.7.1)\n",
      "Requirement already satisfied: sniffio in c:\\users\\shubhamgupta8\\anaconda3\\lib\\site-packages (from openai) (1.2.0)\n",
      "Requirement already satisfied: idna>=2.8 in c:\\users\\shubhamgupta8\\anaconda3\\lib\\site-packages (from anyio<5,>=3.5.0->openai) (3.3)\n",
      "Requirement already satisfied: exceptiongroup in c:\\users\\shubhamgupta8\\anaconda3\\lib\\site-packages (from anyio<5,>=3.5.0->openai) (1.1.3)\n",
      "Requirement already satisfied: certifi in c:\\users\\shubhamgupta8\\anaconda3\\lib\\site-packages (from httpx<1,>=0.23.0->openai) (2022.9.14)\n",
      "Requirement already satisfied: httpcore<0.19.0,>=0.18.0 in c:\\users\\shubhamgupta8\\anaconda3\\lib\\site-packages (from httpx<1,>=0.23.0->openai) (0.18.0)\n",
      "Requirement already satisfied: annotated-types>=0.4.0 in c:\\users\\shubhamgupta8\\anaconda3\\lib\\site-packages (from pydantic<3,>=1.9.0->openai) (0.5.0)\n",
      "Requirement already satisfied: pydantic-core==2.6.3 in c:\\users\\shubhamgupta8\\anaconda3\\lib\\site-packages (from pydantic<3,>=1.9.0->openai) (2.6.3)\n",
      "Requirement already satisfied: colorama in c:\\users\\shubhamgupta8\\anaconda3\\lib\\site-packages (from tqdm>4->openai) (0.4.5)\n",
      "Requirement already satisfied: h11<0.15,>=0.13 in c:\\users\\shubhamgupta8\\anaconda3\\lib\\site-packages (from httpcore<0.19.0,>=0.18.0->httpx<1,>=0.23.0->openai) (0.14.0)\n"
     ]
    }
   ],
   "source": [
    "!pip install --upgrade openai"
   ]
  },
  {
   "cell_type": "code",
   "execution_count": 4,
   "id": "a645b257",
   "metadata": {
    "collapsed": true
   },
   "outputs": [
    {
     "name": "stdout",
     "output_type": "stream",
     "text": [
      "Requirement already satisfied: langchain in c:\\users\\shubhamgupta8\\anaconda3\\lib\\site-packages (0.1.0)\n",
      "Requirement already satisfied: tenacity<9.0.0,>=8.1.0 in c:\\users\\shubhamgupta8\\anaconda3\\lib\\site-packages (from langchain) (8.2.3)\n",
      "Requirement already satisfied: requests<3,>=2 in c:\\users\\shubhamgupta8\\anaconda3\\lib\\site-packages (from langchain) (2.28.1)\n",
      "Requirement already satisfied: aiohttp<4.0.0,>=3.8.3 in c:\\users\\shubhamgupta8\\anaconda3\\lib\\site-packages (from langchain) (3.8.4)\n",
      "Requirement already satisfied: pydantic<3,>=1 in c:\\users\\shubhamgupta8\\anaconda3\\lib\\site-packages (from langchain) (2.3.0)\n",
      "Requirement already satisfied: langchain-community<0.1,>=0.0.9 in c:\\users\\shubhamgupta8\\anaconda3\\lib\\site-packages (from langchain) (0.0.10)\n",
      "Requirement already satisfied: dataclasses-json<0.7,>=0.5.7 in c:\\users\\shubhamgupta8\\anaconda3\\lib\\site-packages (from langchain) (0.6.3)\n",
      "Requirement already satisfied: SQLAlchemy<3,>=1.4 in c:\\users\\shubhamgupta8\\anaconda3\\lib\\site-packages (from langchain) (1.4.39)\n",
      "Requirement already satisfied: langchain-core<0.2,>=0.1.7 in c:\\users\\shubhamgupta8\\anaconda3\\lib\\site-packages (from langchain) (0.1.8)\n",
      "Requirement already satisfied: PyYAML>=5.3 in c:\\users\\shubhamgupta8\\anaconda3\\lib\\site-packages (from langchain) (6.0)\n",
      "Requirement already satisfied: numpy<2,>=1 in c:\\users\\shubhamgupta8\\anaconda3\\lib\\site-packages (from langchain) (1.26.3)\n",
      "Requirement already satisfied: jsonpatch<2.0,>=1.33 in c:\\users\\shubhamgupta8\\anaconda3\\lib\\site-packages (from langchain) (1.33)\n",
      "Requirement already satisfied: async-timeout<5.0.0,>=4.0.0 in c:\\users\\shubhamgupta8\\anaconda3\\lib\\site-packages (from langchain) (4.0.2)\n",
      "Requirement already satisfied: langsmith<0.1.0,>=0.0.77 in c:\\users\\shubhamgupta8\\anaconda3\\lib\\site-packages (from langchain) (0.0.78)\n",
      "Requirement already satisfied: yarl<2.0,>=1.0 in c:\\users\\shubhamgupta8\\anaconda3\\lib\\site-packages (from aiohttp<4.0.0,>=3.8.3->langchain) (1.9.2)\n",
      "Requirement already satisfied: aiosignal>=1.1.2 in c:\\users\\shubhamgupta8\\anaconda3\\lib\\site-packages (from aiohttp<4.0.0,>=3.8.3->langchain) (1.3.1)\n",
      "Requirement already satisfied: attrs>=17.3.0 in c:\\users\\shubhamgupta8\\anaconda3\\lib\\site-packages (from aiohttp<4.0.0,>=3.8.3->langchain) (21.4.0)\n",
      "Requirement already satisfied: multidict<7.0,>=4.5 in c:\\users\\shubhamgupta8\\anaconda3\\lib\\site-packages (from aiohttp<4.0.0,>=3.8.3->langchain) (6.0.4)\n",
      "Requirement already satisfied: charset-normalizer<4.0,>=2.0 in c:\\users\\shubhamgupta8\\anaconda3\\lib\\site-packages (from aiohttp<4.0.0,>=3.8.3->langchain) (2.0.4)\n",
      "Requirement already satisfied: frozenlist>=1.1.1 in c:\\users\\shubhamgupta8\\anaconda3\\lib\\site-packages (from aiohttp<4.0.0,>=3.8.3->langchain) (1.3.3)\n",
      "Requirement already satisfied: marshmallow<4.0.0,>=3.18.0 in c:\\users\\shubhamgupta8\\anaconda3\\lib\\site-packages (from dataclasses-json<0.7,>=0.5.7->langchain) (3.20.1)\n",
      "Requirement already satisfied: typing-inspect<1,>=0.4.0 in c:\\users\\shubhamgupta8\\anaconda3\\lib\\site-packages (from dataclasses-json<0.7,>=0.5.7->langchain) (0.9.0)\n",
      "Requirement already satisfied: jsonpointer>=1.9 in c:\\users\\shubhamgupta8\\anaconda3\\lib\\site-packages (from jsonpatch<2.0,>=1.33->langchain) (2.4)\n",
      "Requirement already satisfied: anyio<5,>=3 in c:\\users\\shubhamgupta8\\anaconda3\\lib\\site-packages (from langchain-core<0.2,>=0.1.7->langchain) (3.7.1)\n",
      "Requirement already satisfied: packaging<24.0,>=23.2 in c:\\users\\shubhamgupta8\\anaconda3\\lib\\site-packages (from langchain-core<0.2,>=0.1.7->langchain) (23.2)\n",
      "Requirement already satisfied: pydantic-core==2.6.3 in c:\\users\\shubhamgupta8\\anaconda3\\lib\\site-packages (from pydantic<3,>=1->langchain) (2.6.3)\n",
      "Requirement already satisfied: annotated-types>=0.4.0 in c:\\users\\shubhamgupta8\\anaconda3\\lib\\site-packages (from pydantic<3,>=1->langchain) (0.5.0)\n",
      "Requirement already satisfied: typing-extensions>=4.6.1 in c:\\users\\shubhamgupta8\\anaconda3\\lib\\site-packages (from pydantic<3,>=1->langchain) (4.7.1)\n",
      "Requirement already satisfied: certifi>=2017.4.17 in c:\\users\\shubhamgupta8\\anaconda3\\lib\\site-packages (from requests<3,>=2->langchain) (2022.9.14)\n",
      "Requirement already satisfied: urllib3<1.27,>=1.21.1 in c:\\users\\shubhamgupta8\\anaconda3\\lib\\site-packages (from requests<3,>=2->langchain) (1.26.11)\n",
      "Requirement already satisfied: idna<4,>=2.5 in c:\\users\\shubhamgupta8\\anaconda3\\lib\\site-packages (from requests<3,>=2->langchain) (3.3)\n",
      "Requirement already satisfied: greenlet!=0.4.17 in c:\\users\\shubhamgupta8\\anaconda3\\lib\\site-packages (from SQLAlchemy<3,>=1.4->langchain) (1.1.1)\n",
      "Requirement already satisfied: exceptiongroup in c:\\users\\shubhamgupta8\\anaconda3\\lib\\site-packages (from anyio<5,>=3->langchain-core<0.2,>=0.1.7->langchain) (1.1.3)\n",
      "Requirement already satisfied: sniffio>=1.1 in c:\\users\\shubhamgupta8\\anaconda3\\lib\\site-packages (from anyio<5,>=3->langchain-core<0.2,>=0.1.7->langchain) (1.2.0)\n",
      "Requirement already satisfied: mypy-extensions>=0.3.0 in c:\\users\\shubhamgupta8\\anaconda3\\lib\\site-packages (from typing-inspect<1,>=0.4.0->dataclasses-json<0.7,>=0.5.7->langchain) (0.4.3)\n"
     ]
    }
   ],
   "source": [
    "!pip install langchain"
   ]
  },
  {
   "cell_type": "code",
   "execution_count": 5,
   "id": "9e58249e",
   "metadata": {
    "collapsed": true
   },
   "outputs": [
    {
     "name": "stdout",
     "output_type": "stream",
     "text": [
      "Requirement already satisfied: langchain in c:\\users\\shubhamgupta8\\anaconda3\\lib\\site-packages (0.1.0)\n",
      "Requirement already satisfied: openai in c:\\users\\shubhamgupta8\\anaconda3\\lib\\site-packages (1.7.0)\n",
      "Requirement already satisfied: dataclasses-json<0.7,>=0.5.7 in c:\\users\\shubhamgupta8\\anaconda3\\lib\\site-packages (from langchain) (0.6.3)\n",
      "Requirement already satisfied: async-timeout<5.0.0,>=4.0.0 in c:\\users\\shubhamgupta8\\anaconda3\\lib\\site-packages (from langchain) (4.0.2)\n",
      "Requirement already satisfied: tenacity<9.0.0,>=8.1.0 in c:\\users\\shubhamgupta8\\anaconda3\\lib\\site-packages (from langchain) (8.2.3)\n",
      "Requirement already satisfied: SQLAlchemy<3,>=1.4 in c:\\users\\shubhamgupta8\\anaconda3\\lib\\site-packages (from langchain) (1.4.39)\n",
      "Requirement already satisfied: langchain-core<0.2,>=0.1.7 in c:\\users\\shubhamgupta8\\anaconda3\\lib\\site-packages (from langchain) (0.1.8)\n",
      "Requirement already satisfied: langsmith<0.1.0,>=0.0.77 in c:\\users\\shubhamgupta8\\anaconda3\\lib\\site-packages (from langchain) (0.0.78)\n",
      "Requirement already satisfied: langchain-community<0.1,>=0.0.9 in c:\\users\\shubhamgupta8\\anaconda3\\lib\\site-packages (from langchain) (0.0.10)\n",
      "Requirement already satisfied: PyYAML>=5.3 in c:\\users\\shubhamgupta8\\anaconda3\\lib\\site-packages (from langchain) (6.0)\n",
      "Requirement already satisfied: requests<3,>=2 in c:\\users\\shubhamgupta8\\anaconda3\\lib\\site-packages (from langchain) (2.28.1)\n",
      "Requirement already satisfied: pydantic<3,>=1 in c:\\users\\shubhamgupta8\\anaconda3\\lib\\site-packages (from langchain) (2.3.0)\n",
      "Requirement already satisfied: jsonpatch<2.0,>=1.33 in c:\\users\\shubhamgupta8\\anaconda3\\lib\\site-packages (from langchain) (1.33)\n",
      "Requirement already satisfied: numpy<2,>=1 in c:\\users\\shubhamgupta8\\anaconda3\\lib\\site-packages (from langchain) (1.26.3)\n",
      "Requirement already satisfied: aiohttp<4.0.0,>=3.8.3 in c:\\users\\shubhamgupta8\\anaconda3\\lib\\site-packages (from langchain) (3.8.4)\n",
      "Requirement already satisfied: distro<2,>=1.7.0 in c:\\users\\shubhamgupta8\\anaconda3\\lib\\site-packages (from openai) (1.9.0)\n",
      "Requirement already satisfied: sniffio in c:\\users\\shubhamgupta8\\anaconda3\\lib\\site-packages (from openai) (1.2.0)\n",
      "Requirement already satisfied: typing-extensions<5,>=4.7 in c:\\users\\shubhamgupta8\\anaconda3\\lib\\site-packages (from openai) (4.7.1)\n",
      "Requirement already satisfied: anyio<5,>=3.5.0 in c:\\users\\shubhamgupta8\\anaconda3\\lib\\site-packages (from openai) (3.7.1)\n",
      "Requirement already satisfied: httpx<1,>=0.23.0 in c:\\users\\shubhamgupta8\\anaconda3\\lib\\site-packages (from openai) (0.25.0)\n",
      "Requirement already satisfied: tqdm>4 in c:\\users\\shubhamgupta8\\anaconda3\\lib\\site-packages (from openai) (4.66.1)\n",
      "Requirement already satisfied: charset-normalizer<4.0,>=2.0 in c:\\users\\shubhamgupta8\\anaconda3\\lib\\site-packages (from aiohttp<4.0.0,>=3.8.3->langchain) (2.0.4)\n",
      "Requirement already satisfied: frozenlist>=1.1.1 in c:\\users\\shubhamgupta8\\anaconda3\\lib\\site-packages (from aiohttp<4.0.0,>=3.8.3->langchain) (1.3.3)\n",
      "Requirement already satisfied: yarl<2.0,>=1.0 in c:\\users\\shubhamgupta8\\anaconda3\\lib\\site-packages (from aiohttp<4.0.0,>=3.8.3->langchain) (1.9.2)\n",
      "Requirement already satisfied: multidict<7.0,>=4.5 in c:\\users\\shubhamgupta8\\anaconda3\\lib\\site-packages (from aiohttp<4.0.0,>=3.8.3->langchain) (6.0.4)\n",
      "Requirement already satisfied: attrs>=17.3.0 in c:\\users\\shubhamgupta8\\anaconda3\\lib\\site-packages (from aiohttp<4.0.0,>=3.8.3->langchain) (21.4.0)\n",
      "Requirement already satisfied: aiosignal>=1.1.2 in c:\\users\\shubhamgupta8\\anaconda3\\lib\\site-packages (from aiohttp<4.0.0,>=3.8.3->langchain) (1.3.1)\n",
      "Requirement already satisfied: idna>=2.8 in c:\\users\\shubhamgupta8\\anaconda3\\lib\\site-packages (from anyio<5,>=3.5.0->openai) (3.3)\n",
      "Requirement already satisfied: exceptiongroup in c:\\users\\shubhamgupta8\\anaconda3\\lib\\site-packages (from anyio<5,>=3.5.0->openai) (1.1.3)\n",
      "Requirement already satisfied: typing-inspect<1,>=0.4.0 in c:\\users\\shubhamgupta8\\anaconda3\\lib\\site-packages (from dataclasses-json<0.7,>=0.5.7->langchain) (0.9.0)\n",
      "Requirement already satisfied: marshmallow<4.0.0,>=3.18.0 in c:\\users\\shubhamgupta8\\anaconda3\\lib\\site-packages (from dataclasses-json<0.7,>=0.5.7->langchain) (3.20.1)\n",
      "Requirement already satisfied: certifi in c:\\users\\shubhamgupta8\\anaconda3\\lib\\site-packages (from httpx<1,>=0.23.0->openai) (2022.9.14)\n",
      "Requirement already satisfied: httpcore<0.19.0,>=0.18.0 in c:\\users\\shubhamgupta8\\anaconda3\\lib\\site-packages (from httpx<1,>=0.23.0->openai) (0.18.0)\n",
      "Requirement already satisfied: jsonpointer>=1.9 in c:\\users\\shubhamgupta8\\anaconda3\\lib\\site-packages (from jsonpatch<2.0,>=1.33->langchain) (2.4)\n",
      "Requirement already satisfied: packaging<24.0,>=23.2 in c:\\users\\shubhamgupta8\\anaconda3\\lib\\site-packages (from langchain-core<0.2,>=0.1.7->langchain) (23.2)\n",
      "Requirement already satisfied: annotated-types>=0.4.0 in c:\\users\\shubhamgupta8\\anaconda3\\lib\\site-packages (from pydantic<3,>=1->langchain) (0.5.0)\n",
      "Requirement already satisfied: pydantic-core==2.6.3 in c:\\users\\shubhamgupta8\\anaconda3\\lib\\site-packages (from pydantic<3,>=1->langchain) (2.6.3)\n",
      "Requirement already satisfied: urllib3<1.27,>=1.21.1 in c:\\users\\shubhamgupta8\\anaconda3\\lib\\site-packages (from requests<3,>=2->langchain) (1.26.11)\n",
      "Requirement already satisfied: greenlet!=0.4.17 in c:\\users\\shubhamgupta8\\anaconda3\\lib\\site-packages (from SQLAlchemy<3,>=1.4->langchain) (1.1.1)\n",
      "Requirement already satisfied: colorama in c:\\users\\shubhamgupta8\\anaconda3\\lib\\site-packages (from tqdm>4->openai) (0.4.5)\n",
      "Requirement already satisfied: h11<0.15,>=0.13 in c:\\users\\shubhamgupta8\\anaconda3\\lib\\site-packages (from httpcore<0.19.0,>=0.18.0->httpx<1,>=0.23.0->openai) (0.14.0)\n",
      "Requirement already satisfied: mypy-extensions>=0.3.0 in c:\\users\\shubhamgupta8\\anaconda3\\lib\\site-packages (from typing-inspect<1,>=0.4.0->dataclasses-json<0.7,>=0.5.7->langchain) (0.4.3)\n"
     ]
    }
   ],
   "source": [
    "!pip install langchain openai --upgrade"
   ]
  },
  {
   "cell_type": "code",
   "execution_count": 6,
   "id": "5466b6a3",
   "metadata": {
    "collapsed": true
   },
   "outputs": [
    {
     "name": "stdout",
     "output_type": "stream",
     "text": [
      "Requirement already satisfied: pypdf in c:\\users\\shubhamgupta8\\anaconda3\\lib\\site-packages (3.17.4)\n",
      "Requirement already satisfied: typing_extensions>=3.7.4.3 in c:\\users\\shubhamgupta8\\anaconda3\\lib\\site-packages (from pypdf) (4.7.1)\n"
     ]
    }
   ],
   "source": [
    "!pip install pypdf"
   ]
  },
  {
   "cell_type": "code",
   "execution_count": 7,
   "id": "c71fa401",
   "metadata": {
    "collapsed": true
   },
   "outputs": [
    {
     "name": "stdout",
     "output_type": "stream",
     "text": [
      "Requirement already satisfied: chromadb in c:\\users\\shubhamgupta8\\anaconda3\\lib\\site-packages (0.4.22)\n",
      "Requirement already satisfied: pydantic>=1.9 in c:\\users\\shubhamgupta8\\anaconda3\\lib\\site-packages (from chromadb) (2.3.0)\n",
      "Requirement already satisfied: tqdm>=4.65.0 in c:\\users\\shubhamgupta8\\anaconda3\\lib\\site-packages (from chromadb) (4.66.1)\n",
      "Requirement already satisfied: importlib-resources in c:\\users\\shubhamgupta8\\anaconda3\\lib\\site-packages (from chromadb) (6.0.1)\n",
      "Requirement already satisfied: typer>=0.9.0 in c:\\users\\shubhamgupta8\\anaconda3\\lib\\site-packages (from chromadb) (0.9.0)\n",
      "Requirement already satisfied: opentelemetry-api>=1.2.0 in c:\\users\\shubhamgupta8\\anaconda3\\lib\\site-packages (from chromadb) (1.22.0)\n",
      "Requirement already satisfied: PyYAML>=6.0.0 in c:\\users\\shubhamgupta8\\anaconda3\\lib\\site-packages (from chromadb) (6.0)\n",
      "Requirement already satisfied: typing-extensions>=4.5.0 in c:\\users\\shubhamgupta8\\anaconda3\\lib\\site-packages (from chromadb) (4.7.1)\n",
      "Requirement already satisfied: opentelemetry-exporter-otlp-proto-grpc>=1.2.0 in c:\\users\\shubhamgupta8\\anaconda3\\lib\\site-packages (from chromadb) (1.22.0)\n",
      "Requirement already satisfied: opentelemetry-instrumentation-fastapi>=0.41b0 in c:\\users\\shubhamgupta8\\anaconda3\\lib\\site-packages (from chromadb) (0.43b0)\n",
      "Requirement already satisfied: tokenizers>=0.13.2 in c:\\users\\shubhamgupta8\\anaconda3\\lib\\site-packages (from chromadb) (0.15.0)\n",
      "Requirement already satisfied: fastapi>=0.95.2 in c:\\users\\shubhamgupta8\\anaconda3\\lib\\site-packages (from chromadb) (0.103.1)\n",
      "Requirement already satisfied: kubernetes>=28.1.0 in c:\\users\\shubhamgupta8\\anaconda3\\lib\\site-packages (from chromadb) (29.0.0)\n",
      "Requirement already satisfied: overrides>=7.3.1 in c:\\users\\shubhamgupta8\\anaconda3\\lib\\site-packages (from chromadb) (7.4.0)\n",
      "Requirement already satisfied: tenacity>=8.2.3 in c:\\users\\shubhamgupta8\\anaconda3\\lib\\site-packages (from chromadb) (8.2.3)\n",
      "Requirement already satisfied: numpy>=1.22.5 in c:\\users\\shubhamgupta8\\anaconda3\\lib\\site-packages (from chromadb) (1.26.3)\n",
      "Requirement already satisfied: onnxruntime>=1.14.1 in c:\\users\\shubhamgupta8\\anaconda3\\lib\\site-packages (from chromadb) (1.16.3)\n",
      "Requirement already satisfied: opentelemetry-sdk>=1.2.0 in c:\\users\\shubhamgupta8\\anaconda3\\lib\\site-packages (from chromadb) (1.22.0)\n",
      "Requirement already satisfied: posthog>=2.4.0 in c:\\users\\shubhamgupta8\\anaconda3\\lib\\site-packages (from chromadb) (3.3.0)\n",
      "Requirement already satisfied: build>=1.0.3 in c:\\users\\shubhamgupta8\\anaconda3\\lib\\site-packages (from chromadb) (1.0.3)\n",
      "Requirement already satisfied: grpcio>=1.58.0 in c:\\users\\shubhamgupta8\\anaconda3\\lib\\site-packages (from chromadb) (1.60.0)\n",
      "Requirement already satisfied: pypika>=0.48.9 in c:\\users\\shubhamgupta8\\anaconda3\\lib\\site-packages (from chromadb) (0.48.9)\n",
      "Requirement already satisfied: chroma-hnswlib==0.7.3 in c:\\users\\shubhamgupta8\\anaconda3\\lib\\site-packages (from chromadb) (0.7.3)\n",
      "Requirement already satisfied: pulsar-client>=3.1.0 in c:\\users\\shubhamgupta8\\anaconda3\\lib\\site-packages (from chromadb) (3.4.0)\n",
      "Requirement already satisfied: bcrypt>=4.0.1 in c:\\users\\shubhamgupta8\\anaconda3\\lib\\site-packages (from chromadb) (4.1.2)\n",
      "Requirement already satisfied: requests>=2.28 in c:\\users\\shubhamgupta8\\anaconda3\\lib\\site-packages (from chromadb) (2.28.1)\n",
      "Requirement already satisfied: mmh3>=4.0.1 in c:\\users\\shubhamgupta8\\anaconda3\\lib\\site-packages (from chromadb) (4.1.0)\n",
      "Requirement already satisfied: uvicorn[standard]>=0.18.3 in c:\\users\\shubhamgupta8\\anaconda3\\lib\\site-packages (from chromadb) (0.23.2)\n",
      "Requirement already satisfied: tomli>=1.1.0 in c:\\users\\shubhamgupta8\\anaconda3\\lib\\site-packages (from build>=1.0.3->chromadb) (2.0.1)\n",
      "Requirement already satisfied: packaging>=19.0 in c:\\users\\shubhamgupta8\\anaconda3\\lib\\site-packages (from build>=1.0.3->chromadb) (23.2)\n",
      "Requirement already satisfied: importlib-metadata>=4.6 in c:\\users\\shubhamgupta8\\anaconda3\\lib\\site-packages (from build>=1.0.3->chromadb) (6.11.0)\n",
      "Requirement already satisfied: colorama in c:\\users\\shubhamgupta8\\anaconda3\\lib\\site-packages (from build>=1.0.3->chromadb) (0.4.5)\n",
      "Requirement already satisfied: pyproject_hooks in c:\\users\\shubhamgupta8\\anaconda3\\lib\\site-packages (from build>=1.0.3->chromadb) (1.0.0)\n",
      "Requirement already satisfied: anyio<4.0.0,>=3.7.1 in c:\\users\\shubhamgupta8\\anaconda3\\lib\\site-packages (from fastapi>=0.95.2->chromadb) (3.7.1)\n",
      "Requirement already satisfied: starlette<0.28.0,>=0.27.0 in c:\\users\\shubhamgupta8\\anaconda3\\lib\\site-packages (from fastapi>=0.95.2->chromadb) (0.27.0)\n",
      "Requirement already satisfied: oauthlib>=3.2.2 in c:\\users\\shubhamgupta8\\anaconda3\\lib\\site-packages (from kubernetes>=28.1.0->chromadb) (3.2.2)\n",
      "Requirement already satisfied: urllib3>=1.24.2 in c:\\users\\shubhamgupta8\\anaconda3\\lib\\site-packages (from kubernetes>=28.1.0->chromadb) (1.26.11)\n",
      "Requirement already satisfied: python-dateutil>=2.5.3 in c:\\users\\shubhamgupta8\\anaconda3\\lib\\site-packages (from kubernetes>=28.1.0->chromadb) (2.8.2)\n",
      "Requirement already satisfied: requests-oauthlib in c:\\users\\shubhamgupta8\\anaconda3\\lib\\site-packages (from kubernetes>=28.1.0->chromadb) (1.3.1)\n",
      "Requirement already satisfied: google-auth>=1.0.1 in c:\\users\\shubhamgupta8\\anaconda3\\lib\\site-packages (from kubernetes>=28.1.0->chromadb) (2.26.1)\n",
      "Requirement already satisfied: six>=1.9.0 in c:\\users\\shubhamgupta8\\anaconda3\\lib\\site-packages (from kubernetes>=28.1.0->chromadb) (1.16.0)\n",
      "Requirement already satisfied: certifi>=14.05.14 in c:\\users\\shubhamgupta8\\anaconda3\\lib\\site-packages (from kubernetes>=28.1.0->chromadb) (2022.9.14)\n",
      "Requirement already satisfied: websocket-client!=0.40.0,!=0.41.*,!=0.42.*,>=0.32.0 in c:\\users\\shubhamgupta8\\anaconda3\\lib\\site-packages (from kubernetes>=28.1.0->chromadb) (0.58.0)\n",
      "Requirement already satisfied: flatbuffers in c:\\users\\shubhamgupta8\\anaconda3\\lib\\site-packages (from onnxruntime>=1.14.1->chromadb) (23.5.26)\n",
      "Requirement already satisfied: coloredlogs in c:\\users\\shubhamgupta8\\anaconda3\\lib\\site-packages (from onnxruntime>=1.14.1->chromadb) (15.0.1)\n",
      "Requirement already satisfied: sympy in c:\\users\\shubhamgupta8\\anaconda3\\lib\\site-packages (from onnxruntime>=1.14.1->chromadb) (1.10.1)\n",
      "Requirement already satisfied: protobuf in c:\\users\\shubhamgupta8\\anaconda3\\lib\\site-packages (from onnxruntime>=1.14.1->chromadb) (4.25.1)\n",
      "Requirement already satisfied: deprecated>=1.2.6 in c:\\users\\shubhamgupta8\\anaconda3\\lib\\site-packages (from opentelemetry-api>=1.2.0->chromadb) (1.2.14)\n",
      "Requirement already satisfied: opentelemetry-proto==1.22.0 in c:\\users\\shubhamgupta8\\anaconda3\\lib\\site-packages (from opentelemetry-exporter-otlp-proto-grpc>=1.2.0->chromadb) (1.22.0)\n",
      "Requirement already satisfied: googleapis-common-protos~=1.52 in c:\\users\\shubhamgupta8\\anaconda3\\lib\\site-packages (from opentelemetry-exporter-otlp-proto-grpc>=1.2.0->chromadb) (1.62.0)\n",
      "Requirement already satisfied: backoff<3.0.0,>=1.10.0 in c:\\users\\shubhamgupta8\\anaconda3\\lib\\site-packages (from opentelemetry-exporter-otlp-proto-grpc>=1.2.0->chromadb) (2.2.1)\n",
      "Requirement already satisfied: opentelemetry-exporter-otlp-proto-common==1.22.0 in c:\\users\\shubhamgupta8\\anaconda3\\lib\\site-packages (from opentelemetry-exporter-otlp-proto-grpc>=1.2.0->chromadb) (1.22.0)\n",
      "Requirement already satisfied: opentelemetry-instrumentation==0.43b0 in c:\\users\\shubhamgupta8\\anaconda3\\lib\\site-packages (from opentelemetry-instrumentation-fastapi>=0.41b0->chromadb) (0.43b0)\n",
      "Requirement already satisfied: opentelemetry-semantic-conventions==0.43b0 in c:\\users\\shubhamgupta8\\anaconda3\\lib\\site-packages (from opentelemetry-instrumentation-fastapi>=0.41b0->chromadb) (0.43b0)\n",
      "Requirement already satisfied: opentelemetry-util-http==0.43b0 in c:\\users\\shubhamgupta8\\anaconda3\\lib\\site-packages (from opentelemetry-instrumentation-fastapi>=0.41b0->chromadb) (0.43b0)\n",
      "Requirement already satisfied: opentelemetry-instrumentation-asgi==0.43b0 in c:\\users\\shubhamgupta8\\anaconda3\\lib\\site-packages (from opentelemetry-instrumentation-fastapi>=0.41b0->chromadb) (0.43b0)\n",
      "Requirement already satisfied: wrapt<2.0.0,>=1.0.0 in c:\\users\\shubhamgupta8\\anaconda3\\lib\\site-packages (from opentelemetry-instrumentation==0.43b0->opentelemetry-instrumentation-fastapi>=0.41b0->chromadb) (1.14.1)\n",
      "Requirement already satisfied: setuptools>=16.0 in c:\\users\\shubhamgupta8\\anaconda3\\lib\\site-packages (from opentelemetry-instrumentation==0.43b0->opentelemetry-instrumentation-fastapi>=0.41b0->chromadb) (63.4.1)\n",
      "Requirement already satisfied: asgiref~=3.0 in c:\\users\\shubhamgupta8\\anaconda3\\lib\\site-packages (from opentelemetry-instrumentation-asgi==0.43b0->opentelemetry-instrumentation-fastapi>=0.41b0->chromadb) (3.7.2)\n",
      "Requirement already satisfied: monotonic>=1.5 in c:\\users\\shubhamgupta8\\anaconda3\\lib\\site-packages (from posthog>=2.4.0->chromadb) (1.6)\n",
      "Requirement already satisfied: annotated-types>=0.4.0 in c:\\users\\shubhamgupta8\\anaconda3\\lib\\site-packages (from pydantic>=1.9->chromadb) (0.5.0)\n",
      "Requirement already satisfied: pydantic-core==2.6.3 in c:\\users\\shubhamgupta8\\anaconda3\\lib\\site-packages (from pydantic>=1.9->chromadb) (2.6.3)\n",
      "Requirement already satisfied: charset-normalizer<3,>=2 in c:\\users\\shubhamgupta8\\anaconda3\\lib\\site-packages (from requests>=2.28->chromadb) (2.0.4)\n",
      "Requirement already satisfied: idna<4,>=2.5 in c:\\users\\shubhamgupta8\\anaconda3\\lib\\site-packages (from requests>=2.28->chromadb) (3.3)\n",
      "Requirement already satisfied: huggingface_hub<1.0,>=0.16.4 in c:\\users\\shubhamgupta8\\anaconda3\\lib\\site-packages (from tokenizers>=0.13.2->chromadb) (0.17.1)\n",
      "Requirement already satisfied: click<9.0.0,>=7.1.1 in c:\\users\\shubhamgupta8\\anaconda3\\lib\\site-packages (from typer>=0.9.0->chromadb) (8.0.4)\n",
      "Requirement already satisfied: h11>=0.8 in c:\\users\\shubhamgupta8\\anaconda3\\lib\\site-packages (from uvicorn[standard]>=0.18.3->chromadb) (0.14.0)\n",
      "Requirement already satisfied: httptools>=0.5.0 in c:\\users\\shubhamgupta8\\anaconda3\\lib\\site-packages (from uvicorn[standard]>=0.18.3->chromadb) (0.6.1)\n",
      "Requirement already satisfied: websockets>=10.4 in c:\\users\\shubhamgupta8\\anaconda3\\lib\\site-packages (from uvicorn[standard]>=0.18.3->chromadb) (11.0.3)\n",
      "Requirement already satisfied: python-dotenv>=0.13 in c:\\users\\shubhamgupta8\\anaconda3\\lib\\site-packages (from uvicorn[standard]>=0.18.3->chromadb) (1.0.0)\n",
      "Requirement already satisfied: watchfiles>=0.13 in c:\\users\\shubhamgupta8\\anaconda3\\lib\\site-packages (from uvicorn[standard]>=0.18.3->chromadb) (0.21.0)\n",
      "Requirement already satisfied: zipp>=3.1.0 in c:\\users\\shubhamgupta8\\anaconda3\\lib\\site-packages (from importlib-resources->chromadb) (3.8.0)\n",
      "Requirement already satisfied: sniffio>=1.1 in c:\\users\\shubhamgupta8\\anaconda3\\lib\\site-packages (from anyio<4.0.0,>=3.7.1->fastapi>=0.95.2->chromadb) (1.2.0)\n",
      "Requirement already satisfied: exceptiongroup in c:\\users\\shubhamgupta8\\anaconda3\\lib\\site-packages (from anyio<4.0.0,>=3.7.1->fastapi>=0.95.2->chromadb) (1.1.3)\n",
      "Requirement already satisfied: rsa<5,>=3.1.4 in c:\\users\\shubhamgupta8\\anaconda3\\lib\\site-packages (from google-auth>=1.0.1->kubernetes>=28.1.0->chromadb) (4.9)\n",
      "Requirement already satisfied: pyasn1-modules>=0.2.1 in c:\\users\\shubhamgupta8\\anaconda3\\lib\\site-packages (from google-auth>=1.0.1->kubernetes>=28.1.0->chromadb) (0.2.8)\n",
      "Requirement already satisfied: cachetools<6.0,>=2.0.0 in c:\\users\\shubhamgupta8\\anaconda3\\lib\\site-packages (from google-auth>=1.0.1->kubernetes>=28.1.0->chromadb) (5.3.2)\n",
      "Requirement already satisfied: fsspec in c:\\users\\shubhamgupta8\\anaconda3\\lib\\site-packages (from huggingface_hub<1.0,>=0.16.4->tokenizers>=0.13.2->chromadb) (2022.7.1)\n",
      "Requirement already satisfied: filelock in c:\\users\\shubhamgupta8\\anaconda3\\lib\\site-packages (from huggingface_hub<1.0,>=0.16.4->tokenizers>=0.13.2->chromadb) (3.6.0)\n",
      "Requirement already satisfied: humanfriendly>=9.1 in c:\\users\\shubhamgupta8\\anaconda3\\lib\\site-packages (from coloredlogs->onnxruntime>=1.14.1->chromadb) (10.0)\n",
      "Requirement already satisfied: mpmath>=0.19 in c:\\users\\shubhamgupta8\\anaconda3\\lib\\site-packages (from sympy->onnxruntime>=1.14.1->chromadb) (1.2.1)\n",
      "Requirement already satisfied: pyreadline3 in c:\\users\\shubhamgupta8\\anaconda3\\lib\\site-packages (from humanfriendly>=9.1->coloredlogs->onnxruntime>=1.14.1->chromadb) (3.4.1)\n",
      "Requirement already satisfied: pyasn1<0.5.0,>=0.4.6 in c:\\users\\shubhamgupta8\\anaconda3\\lib\\site-packages (from pyasn1-modules>=0.2.1->google-auth>=1.0.1->kubernetes>=28.1.0->chromadb) (0.4.8)\n"
     ]
    }
   ],
   "source": [
    "!pip install chromadb"
   ]
  },
  {
   "cell_type": "code",
   "execution_count": 8,
   "id": "29ea2f00",
   "metadata": {
    "collapsed": true
   },
   "outputs": [
    {
     "name": "stdout",
     "output_type": "stream",
     "text": [
      "Requirement already satisfied: langchain_openai in c:\\users\\shubhamgupta8\\anaconda3\\lib\\site-packages (0.0.2)\n",
      "Requirement already satisfied: numpy<2,>=1 in c:\\users\\shubhamgupta8\\anaconda3\\lib\\site-packages (from langchain_openai) (1.26.3)\n",
      "Requirement already satisfied: tiktoken<0.6.0,>=0.5.2 in c:\\users\\shubhamgupta8\\anaconda3\\lib\\site-packages (from langchain_openai) (0.5.2)\n",
      "Requirement already satisfied: langchain-core<0.2,>=0.1.7 in c:\\users\\shubhamgupta8\\anaconda3\\lib\\site-packages (from langchain_openai) (0.1.8)\n",
      "Requirement already satisfied: openai<2.0.0,>=1.6.1 in c:\\users\\shubhamgupta8\\anaconda3\\lib\\site-packages (from langchain_openai) (1.7.0)\n",
      "Requirement already satisfied: packaging<24.0,>=23.2 in c:\\users\\shubhamgupta8\\anaconda3\\lib\\site-packages (from langchain-core<0.2,>=0.1.7->langchain_openai) (23.2)\n",
      "Requirement already satisfied: anyio<5,>=3 in c:\\users\\shubhamgupta8\\anaconda3\\lib\\site-packages (from langchain-core<0.2,>=0.1.7->langchain_openai) (3.7.1)\n",
      "Requirement already satisfied: requests<3,>=2 in c:\\users\\shubhamgupta8\\anaconda3\\lib\\site-packages (from langchain-core<0.2,>=0.1.7->langchain_openai) (2.28.1)\n",
      "Requirement already satisfied: tenacity<9.0.0,>=8.1.0 in c:\\users\\shubhamgupta8\\anaconda3\\lib\\site-packages (from langchain-core<0.2,>=0.1.7->langchain_openai) (8.2.3)\n",
      "Requirement already satisfied: pydantic<3,>=1 in c:\\users\\shubhamgupta8\\anaconda3\\lib\\site-packages (from langchain-core<0.2,>=0.1.7->langchain_openai) (2.3.0)\n",
      "Requirement already satisfied: PyYAML>=5.3 in c:\\users\\shubhamgupta8\\anaconda3\\lib\\site-packages (from langchain-core<0.2,>=0.1.7->langchain_openai) (6.0)\n",
      "Requirement already satisfied: jsonpatch<2.0,>=1.33 in c:\\users\\shubhamgupta8\\anaconda3\\lib\\site-packages (from langchain-core<0.2,>=0.1.7->langchain_openai) (1.33)\n",
      "Requirement already satisfied: langsmith<0.1.0,>=0.0.63 in c:\\users\\shubhamgupta8\\anaconda3\\lib\\site-packages (from langchain-core<0.2,>=0.1.7->langchain_openai) (0.0.78)\n",
      "Requirement already satisfied: sniffio in c:\\users\\shubhamgupta8\\anaconda3\\lib\\site-packages (from openai<2.0.0,>=1.6.1->langchain_openai) (1.2.0)\n",
      "Requirement already satisfied: tqdm>4 in c:\\users\\shubhamgupta8\\anaconda3\\lib\\site-packages (from openai<2.0.0,>=1.6.1->langchain_openai) (4.66.1)\n",
      "Requirement already satisfied: distro<2,>=1.7.0 in c:\\users\\shubhamgupta8\\anaconda3\\lib\\site-packages (from openai<2.0.0,>=1.6.1->langchain_openai) (1.9.0)\n",
      "Requirement already satisfied: typing-extensions<5,>=4.7 in c:\\users\\shubhamgupta8\\anaconda3\\lib\\site-packages (from openai<2.0.0,>=1.6.1->langchain_openai) (4.7.1)\n",
      "Requirement already satisfied: httpx<1,>=0.23.0 in c:\\users\\shubhamgupta8\\anaconda3\\lib\\site-packages (from openai<2.0.0,>=1.6.1->langchain_openai) (0.25.0)\n",
      "Requirement already satisfied: regex>=2022.1.18 in c:\\users\\shubhamgupta8\\anaconda3\\lib\\site-packages (from tiktoken<0.6.0,>=0.5.2->langchain_openai) (2022.7.9)\n",
      "Requirement already satisfied: exceptiongroup in c:\\users\\shubhamgupta8\\anaconda3\\lib\\site-packages (from anyio<5,>=3->langchain-core<0.2,>=0.1.7->langchain_openai) (1.1.3)\n",
      "Requirement already satisfied: idna>=2.8 in c:\\users\\shubhamgupta8\\anaconda3\\lib\\site-packages (from anyio<5,>=3->langchain-core<0.2,>=0.1.7->langchain_openai) (3.3)\n",
      "Requirement already satisfied: certifi in c:\\users\\shubhamgupta8\\anaconda3\\lib\\site-packages (from httpx<1,>=0.23.0->openai<2.0.0,>=1.6.1->langchain_openai) (2022.9.14)\n",
      "Requirement already satisfied: httpcore<0.19.0,>=0.18.0 in c:\\users\\shubhamgupta8\\anaconda3\\lib\\site-packages (from httpx<1,>=0.23.0->openai<2.0.0,>=1.6.1->langchain_openai) (0.18.0)\n",
      "Requirement already satisfied: jsonpointer>=1.9 in c:\\users\\shubhamgupta8\\anaconda3\\lib\\site-packages (from jsonpatch<2.0,>=1.33->langchain-core<0.2,>=0.1.7->langchain_openai) (2.4)\n",
      "Requirement already satisfied: annotated-types>=0.4.0 in c:\\users\\shubhamgupta8\\anaconda3\\lib\\site-packages (from pydantic<3,>=1->langchain-core<0.2,>=0.1.7->langchain_openai) (0.5.0)\n",
      "Requirement already satisfied: pydantic-core==2.6.3 in c:\\users\\shubhamgupta8\\anaconda3\\lib\\site-packages (from pydantic<3,>=1->langchain-core<0.2,>=0.1.7->langchain_openai) (2.6.3)\n",
      "Requirement already satisfied: urllib3<1.27,>=1.21.1 in c:\\users\\shubhamgupta8\\anaconda3\\lib\\site-packages (from requests<3,>=2->langchain-core<0.2,>=0.1.7->langchain_openai) (1.26.11)\n",
      "Requirement already satisfied: charset-normalizer<3,>=2 in c:\\users\\shubhamgupta8\\anaconda3\\lib\\site-packages (from requests<3,>=2->langchain-core<0.2,>=0.1.7->langchain_openai) (2.0.4)\n",
      "Requirement already satisfied: colorama in c:\\users\\shubhamgupta8\\anaconda3\\lib\\site-packages (from tqdm>4->openai<2.0.0,>=1.6.1->langchain_openai) (0.4.5)\n",
      "Requirement already satisfied: h11<0.15,>=0.13 in c:\\users\\shubhamgupta8\\anaconda3\\lib\\site-packages (from httpcore<0.19.0,>=0.18.0->httpx<1,>=0.23.0->openai<2.0.0,>=1.6.1->langchain_openai) (0.14.0)\n"
     ]
    }
   ],
   "source": [
    "!pip install langchain_openai"
   ]
  },
  {
   "cell_type": "code",
   "execution_count": 9,
   "id": "2c1900de",
   "metadata": {},
   "outputs": [],
   "source": [
    "from langchain_community.vectorstores import Chroma"
   ]
  },
  {
   "cell_type": "code",
   "execution_count": 10,
   "id": "efdfc115",
   "metadata": {},
   "outputs": [],
   "source": [
    "from langchain_openai import OpenAIEmbeddings"
   ]
  },
  {
   "cell_type": "code",
   "execution_count": 11,
   "id": "cb5678e9",
   "metadata": {},
   "outputs": [],
   "source": [
    "embeddings = OpenAIEmbeddings()"
   ]
  },
  {
   "cell_type": "code",
   "execution_count": 12,
   "id": "ffeef51a",
   "metadata": {},
   "outputs": [],
   "source": [
    "persist_directory = 'chroma/'"
   ]
  },
  {
   "cell_type": "code",
   "execution_count": 13,
   "id": "2e5d2ca2",
   "metadata": {},
   "outputs": [
    {
     "name": "stderr",
     "output_type": "stream",
     "text": [
      "'rm' is not recognized as an internal or external command,\n",
      "operable program or batch file.\n"
     ]
    }
   ],
   "source": [
    "!rm -rf ./chroma"
   ]
  },
  {
   "cell_type": "code",
   "execution_count": 124,
   "id": "4868be18",
   "metadata": {},
   "outputs": [],
   "source": [
    "from langchain.document_loaders import PyPDFLoader\n",
    "loader = PyPDFLoader(\"1100000096972361_KFS.pdf\")\n",
    "pages = loader.load()"
   ]
  },
  {
   "cell_type": "code",
   "execution_count": 125,
   "id": "84f16f16",
   "metadata": {},
   "outputs": [
    {
     "data": {
      "text/plain": [
       "5"
      ]
     },
     "execution_count": 125,
     "metadata": {},
     "output_type": "execute_result"
    }
   ],
   "source": [
    "len(pages)"
   ]
  },
  {
   "cell_type": "code",
   "execution_count": 127,
   "id": "b97bd8fb",
   "metadata": {},
   "outputs": [
    {
     "data": {
      "text/plain": [
       "'8Net disbursement of loan amount after deduction \\nof optional fees/charges/amount (No 4) - (No 7) \\n(in Rupees)Rs. 412444\\n9Tenure of Loan (in months) 72\\n10Repayment frequency by the borrower Monthly\\n11'"
      ]
     },
     "execution_count": 127,
     "metadata": {},
     "output_type": "execute_result"
    }
   ],
   "source": [
    "pages[1].page_content[0:200]"
   ]
  },
  {
   "cell_type": "code",
   "execution_count": 129,
   "id": "de9b07f8",
   "metadata": {},
   "outputs": [
    {
     "name": "stdout",
     "output_type": "stream",
     "text": [
      "8Net disbursement of loan amount after deduction \n",
      "of optional fees/charges/amount (No 4) - (No 7) \n",
      "(in Rupees)Rs. 412444\n",
      "9Tenure of Loan (in months) 72\n",
      "10Repayment frequency by the borrower Monthly\n",
      "11\n"
     ]
    }
   ],
   "source": [
    "print(pages[1].page_content[0:200])"
   ]
  },
  {
   "cell_type": "code",
   "execution_count": 130,
   "id": "2b9a5602",
   "metadata": {},
   "outputs": [
    {
     "data": {
      "text/plain": [
       "{'source': '1100000096972361_KFS.pdf', 'page': 2}"
      ]
     },
     "execution_count": 130,
     "metadata": {},
     "output_type": "execute_result"
    }
   ],
   "source": [
    "pages[2].metadata"
   ]
  },
  {
   "cell_type": "code",
   "execution_count": 131,
   "id": "742add1f",
   "metadata": {},
   "outputs": [],
   "source": [
    "from langchain.text_splitter import RecursiveCharacterTextSplitter"
   ]
  },
  {
   "cell_type": "code",
   "execution_count": 132,
   "id": "5813aa82",
   "metadata": {},
   "outputs": [],
   "source": [
    "text_splitter = RecursiveCharacterTextSplitter(chunk_size= 1500, chunk_overlap = 100)"
   ]
  },
  {
   "cell_type": "code",
   "execution_count": 133,
   "id": "4f26eb00",
   "metadata": {},
   "outputs": [],
   "source": [
    "splits = text_splitter.split_documents(pages)"
   ]
  },
  {
   "cell_type": "code",
   "execution_count": 134,
   "id": "f5d15c19",
   "metadata": {},
   "outputs": [
    {
     "data": {
      "text/plain": [
       "8"
      ]
     },
     "execution_count": 134,
     "metadata": {},
     "output_type": "execute_result"
    }
   ],
   "source": [
    "len(splits)"
   ]
  },
  {
   "cell_type": "code",
   "execution_count": 143,
   "id": "516c7d94",
   "metadata": {},
   "outputs": [
    {
     "name": "stdout",
     "output_type": "stream",
     "text": [
      "[Document(page_content='Reference No.  1100000096972361\\nDate: 2023-11-07\\nKind Attn.:  SHEIKH ANISUL HAQUE\\nSubject: Sanction of Personal loan from Bajaj Finance Limited for an amount of Rs.  only425878\\nDear Sir/Madam,\\nWe thank you for choosing Bajaj Finance Limited (\" \" which expression shall include our BFL\\nsuccessors, transferers,novatees and assigns ) as your financial partner and look forward to an \\nenduring relationship with you.\\nWith reference to your loan application, we are pleased to extend to you a Personal Loan for an \\namount detailed below subject to terms and conditions set out in this letter (\" \") Key Fact Statement\\nand execution of the loan documents between you, i.e. the \" \" and BFL and submission of Borrower\\nother required documents detailed below.\\nKey Fact Statement\\nSr \\nNoParameter Details\\n1Loan Amount (in Rupees) Rs. 425878\\n2Total interest charge during the entire tenor of the \\nloan (in Rupees)Rs. 223735\\n3Up-front charges borne by customer (break-up of \\neach component given below) (in Rupees)Rs. 5357\\naProcessing Fees (Inclusive of GST) (in Rupees) Rs. 4100\\nbFlexi Fees (Inclusive of GST) (in Rupees) Rs. 1256\\ncConvenience Fee (Inclusive of GST) (in Rupees) Rs. 1\\n4Net loan amount for APR (No 1) - (No 3) (in \\nRupees)Rs. 420521\\n5Total Amount to be paid by borrower towards loan \\n(No 1) + (No 2) + (No 3) (in Rupees)Rs. 654970\\n6Annual Percentage Rate - Effective annualized \\ninterest rate (in percentage) (computed on net loan \\namount (No. 4) using IRR approach and reducing', metadata={'source': '1100000096972361_KFS.pdf', 'page': 0}), Document(page_content='amount (No. 4) using IRR approach and reducing \\nbalance method) (%)*14.59 %\\n7Others fees/charges/amounts for optional value \\nadded services and products and stamp duty \\n(Not part of APR) (in Rupees)Rs. 8077\\naStamp duty (in Rupees) Rs. 0\\nbFinserv Protection Plan Lite (Inclusive of GST) \\n(in Rupees)Rs. 8077', metadata={'source': '1100000096972361_KFS.pdf', 'page': 0}), Document(page_content='8Net disbursement of loan amount after deduction \\nof optional fees/charges/amount (No 4) - (No 7) \\n(in Rupees)Rs. 412444\\n9Tenure of Loan (in months) 72\\n10Repayment frequency by the borrower Monthly\\n11Number of instalments of repayment 72\\n12.1Amount of each instalment of repayment (in Rupees) Refer Repayment Schedule\\n12.2Amount of 1st instalment of repayment (in Rupees)\\n**Refer Repayment Schedule\\n13Details about Contingent Charges\\naPart Pre-Payment Charges (Inclusive of GST) NA\\nbFull Pre-Payment Charges (Foreclosure Charges) \\n(Inclusive of GST)4.72%\\ncAnnual Maintenance charges (%)\\nc.1 - Term Loan NA\\nc.2 - Flexi Hybrid Loan\\n1i) Initial Tenure (Inclusive of GST) 0.295%\\n2ii) Subsequent Tenure (Inclusive of GST) 0.295 %\\ndBounce Charges (for default in repayment of \\ninstalment) (in Rupees)Rs. 1200\\neRate of annualized penal charges in case of \\ndelayed payments (if any) (in Rupees)42%\\nfMandate Rejection Charges (if a mandate is \\nrejected by participating bank) (in Rupees)Rs. 450\\ngBroken period interest / Pre EMI-Interest  - Over and above the i) Scenario 1\\nperiod of 30 (thirty) days from the \\ndate of disbursement of the Loan \\n-Added to first instalment amount\\n - Less than period of ii) Scenario 2\\n30 (thirty) days from the date of \\ndisbursement of the Loan, Interest on \\nfirst instalment will be charged for \\nactual number of days\\n14Other Disclosures\\naCooling off/look-up period during which borrower \\nshall not be charged any penalty on prepayment of \\nloan3 working days from the date of', metadata={'source': '1100000096972361_KFS.pdf', 'page': 1}), Document(page_content='shall not be charged any penalty on prepayment of \\nloan3 working days from the date of \\ndisbursal. For cancellation of your \\nloan, you can call us on 8698010101\\nWrite to us at wecare@bajajfinserv.in\\nbDetails of lending service provider acting as \\nrecovery agent and authorized to approach the \\nborrowerAuthorized Partner of BFL. The \\ndetails of the recovery agent \\nauthorized to collect on behalf of \\nBajaj Finance Ltd will be intimated to \\nyou at the time of recovery collection.\\nc.1Nodal Grievance Redressal Officer of lender : Name: Manish Bhargav\\nDesignation: Chief Operations Officer\\nAddress: Bajaj Finserv Corporate \\nOffice, Viman Nagar, Pune,', metadata={'source': '1100000096972361_KFS.pdf', 'page': 1}), Document(page_content=\"Maharashtra - 411014\\nPhone number: 022-41803901\\nc.2Nodal Grievance Redressal Officer of Lending \\nService Provider:Name: Rajeev Chauhan\\nDesignation: National Manager - \\nCredit and Operations Service\\nAddress: Bajaj Finance Direct Ltd, \\n4th Floor, B2- Cerebrum IT park, \\nKalyani Nagar, Pune- 411015\\nContact No.: 020-71877021 (Monday \\nto Friday - 10 AM to 6 PM)\\nEmail Id: \\ngrievanceofficer@bajajfinservmarkets.\\nin\\nd.1Privacy policy covering scope and type of \\ninformation of the user that lender collectsBFL's Privacy Policy\\nd.2Privacy policy covering scope and type of \\ninformation of the user that Lending Service \\nProvider collectsBFDL's Privacy Policy\\nLoan Repayment (Amortization) Schedule\\nEMI Date EMI Amount\\n(A+B)Principal \\nAmount(A)Interest \\nAmount(B)Balance Loan \\nAmount \\nPayable\\n2024-02-02 8943 0 8943 425878\\n2024-03-02 4791 0 4791 425878\\n2024-04-02 4791 0 4791 425878\\n2024-05-02 4791 0 4791 425878\\n2024-06-02 4791 0 4791 425878\\n2024-07-02 4791 0 4791 425878\\n2024-08-02 4791 0 4791 425878\\n2024-09-02 4791 0 4791 425878\\n2024-10-02 4791 0 4791 425878\\n2024-11-02 4791 0 4791 425878\\n2024-12-02 4791 0 4791 425878\\n2025-01-02 4791 0 4791 425878\\n2025-02-02 9799 5008 4791 420870\\n2025-03-02 9799 5064 4735 415806\\n2025-04-02 9799 5121 4678 410685\\n2025-05-02 9799 5179 4620 405506\\n2025-06-02 9799 5237 4562 400269\\n2025-07-02 9799 5296 4503 394973\\n2025-08-02 9799 5356 4443 389617\\n2025-09-02 9799 5416 4383 384201\\n2025-10-02 9799 5477 4322 378724\\n2025-11-02 9799 5538 4261 373186\", metadata={'source': '1100000096972361_KFS.pdf', 'page': 2}), Document(page_content='2025-09-02 9799 5416 4383 384201\\n2025-10-02 9799 5477 4322 378724\\n2025-11-02 9799 5538 4261 373186\\n2025-12-02 9799 5601 4198 367585\\n2026-01-02 9799 5664 4135 361921\\n2026-02-02 9799 5727 4072 356194', metadata={'source': '1100000096972361_KFS.pdf', 'page': 2}), Document(page_content='2026-03-02 9799 5792 4007 350402\\n2026-04-02 9799 5857 3942 344545\\n2026-05-02 9799 5923 3876 338622\\n2026-06-02 9799 5990 3809 332632\\n2026-07-02 9799 6057 3742 326575\\n2026-08-02 9799 6125 3674 320450\\n2026-09-02 9799 6194 3605 314256\\n2026-10-02 9799 6264 3535 307992\\n2026-11-02 9799 6334 3465 301658\\n2026-12-02 9799 6405 3394 295253\\n2027-01-02 9799 6477 3322 288776\\n2027-02-02 9799 6550 3249 282226\\n2027-03-02 9799 6624 3175 275602\\n2027-04-02 9799 6698 3101 268904\\n2027-05-02 9799 6774 3025 262130\\n2027-06-02 9799 6850 2949 255280\\n2027-07-02 9799 6927 2872 248353\\n2027-08-02 9799 7005 2794 241348\\n2027-09-02 9799 7084 2715 234264\\n2027-10-02 9799 7164 2635 227100\\n2027-11-02 9799 7244 2555 219856\\n2027-12-02 9799 7326 2473 212530\\n2028-01-02 9799 7408 2391 205122\\n2028-02-02 9799 7491 2308 197631\\n2028-03-02 9799 7576 2223 190055\\n2028-04-02 9799 7661 2138 182394\\n2028-05-02 9799 7747 2052 174647\\n2028-06-02 9799 7834 1965 166813\\n2028-07-02 9799 7922 1877 158891\\n2028-08-02 9799 8011 1788 150880\\n2028-09-02 9799 8102 1697 142778\\n2028-10-02 9799 8193 1606 134585\\n2028-11-02 9799 8285 1514 126300\\n2028-12-02 9799 8378 1421 117922\\n2029-01-02 9799 8472 1327 109450\\n2029-02-02 9799 8568 1231 100882\\n2029-03-02 9799 8664 1135 92218\\n2029-04-02 9799 8762 1037 83456\\n2029-05-02 9799 8860 939 74596\\n2029-06-02 9799 8960 839 65636\\n2029-07-02 9799 9061 738 56575\\n2029-08-02 9799 9163 636 47412\\n2029-09-02 9799 9266 533 38146\\n2029-10-02 9799 9370 429 28776\\n2029-11-02 9799 9475 324 19301\\n2029-12-02 9799 9582 217 9719', metadata={'source': '1100000096972361_KFS.pdf', 'page': 3}), Document(page_content='2030-01-02 9828 9719 109 0\\n*The APR is calculated basis the net loan amount arrived post deducting charges net of GST. The \\namount shown in No.8 is amount arrived after deducting charges inclusive of GST.\\n**APR and Repayment schedule is indicative considering KFS date as the date of disbursement. In case \\ncustomer avails disbursement at a different date, this amount may undergo a change with corresponding \\nprobable impact on APR and Repayment schedule.\\nDate: 2023-11-07\\nRegards,\\nAuthorized Signatory\\nBajaj Finance Limited\\nBFL/Unsecured Flexi /Dig/WL/English/2023/May/V1', metadata={'source': '1100000096972361_KFS.pdf', 'page': 4})]\n"
     ]
    }
   ],
   "source": [
    "print(splits)"
   ]
  },
  {
   "cell_type": "code",
   "execution_count": 136,
   "id": "329af9a4",
   "metadata": {},
   "outputs": [],
   "source": [
    "vectordb = Chroma.from_documents(\n",
    "    documents=splits,\n",
    "    embedding=embeddings,\n",
    "    persist_directory=persist_directory\n",
    ")"
   ]
  },
  {
   "cell_type": "code",
   "execution_count": 137,
   "id": "d7bc7b4f",
   "metadata": {},
   "outputs": [
    {
     "name": "stdout",
     "output_type": "stream",
     "text": [
      "186\n"
     ]
    }
   ],
   "source": [
    "print(vectordb._collection.count())"
   ]
  },
  {
   "cell_type": "code",
   "execution_count": 138,
   "id": "2cf51a47",
   "metadata": {},
   "outputs": [
    {
     "name": "stdout",
     "output_type": "stream",
     "text": [
      "gpt-3.5-turbo\n"
     ]
    }
   ],
   "source": [
    "import datetime\n",
    "current_date = datetime.datetime.now().date()\n",
    "if current_date < datetime.date(2023, 9, 2):\n",
    "    llm_name = \"gpt-3.5-turbo-0301\"\n",
    "else:\n",
    "    llm_name = \"gpt-3.5-turbo\"\n",
    "print(llm_name)"
   ]
  },
  {
   "cell_type": "code",
   "execution_count": 139,
   "id": "fc165667",
   "metadata": {},
   "outputs": [],
   "source": [
    "from langchain.chat_models import ChatOpenAI\n",
    "llm = ChatOpenAI(model_name=llm_name, temperature=0)"
   ]
  },
  {
   "cell_type": "code",
   "execution_count": 140,
   "id": "ed5c4637",
   "metadata": {},
   "outputs": [],
   "source": [
    "from langchain.chains import RetrievalQA"
   ]
  },
  {
   "cell_type": "code",
   "execution_count": 141,
   "id": "17912845",
   "metadata": {},
   "outputs": [],
   "source": [
    "qa_chain = RetrievalQA.from_chain_type(llm,retriever=vectordb.as_retriever(), return_source_documents=True)"
   ]
  },
  {
   "cell_type": "code",
   "execution_count": 114,
   "id": "ff0a612f",
   "metadata": {
    "scrolled": true
   },
   "outputs": [
    {
     "data": {
      "text/plain": [
       "1"
      ]
     },
     "execution_count": 114,
     "metadata": {},
     "output_type": "execute_result"
    }
   ],
   "source": [
    "#question = \"what does the CPA Act, 2019 do?\"\n",
    "#docs = vectordb.similarity_search(question,k=1)\n",
    "#len(docs)"
   ]
  },
  {
   "cell_type": "code",
   "execution_count": 115,
   "id": "52007fe8",
   "metadata": {},
   "outputs": [],
   "source": [
    "#result = qa_chain({\"query\": question})"
   ]
  },
  {
   "cell_type": "code",
   "execution_count": 116,
   "id": "9ddde344",
   "metadata": {},
   "outputs": [
    {
     "name": "stdout",
     "output_type": "stream",
     "text": [
      "The Consumer Protection Act, 2019 (CPA) is designed to protect consumers against misconduct by businesses from whom they purchase goods and services. It provides ex-ante protection to consumers by banning unfair trade practices (such as misleading advertising) and unfair contracts. The CPA also sets out the liability for different parties in a transaction, ensuring that product liability is always with the seller of the product. Additionally, the CPA defines the grounds on which a consumer can raise complaints against a business and provides for a forum for the same, namely the consumer courts.\n"
     ]
    }
   ],
   "source": [
    "#print(result[\"result\"])"
   ]
  },
  {
   "cell_type": "code",
   "execution_count": 117,
   "id": "d55ca653",
   "metadata": {},
   "outputs": [
    {
     "name": "stdout",
     "output_type": "stream",
     "text": [
      "The answer can be referred from Page No. 16\n"
     ]
    }
   ],
   "source": [
    "#print(\"The answer can be referred from Page No.\", result[\"source_documents\"][0].metadata[\"page\"] + 1)"
   ]
  },
  {
   "cell_type": "code",
   "execution_count": 118,
   "id": "e4d22628",
   "metadata": {
    "collapsed": true
   },
   "outputs": [
    {
     "name": "stdout",
     "output_type": "stream",
     "text": [
      "Requirement already satisfied: gradio in c:\\users\\shubhamgupta8\\anaconda3\\lib\\site-packages (3.44.0)\n",
      "Requirement already satisfied: ffmpy in c:\\users\\shubhamgupta8\\anaconda3\\lib\\site-packages (from gradio) (0.3.1)\n",
      "Requirement already satisfied: pandas<3.0,>=1.0 in c:\\users\\shubhamgupta8\\anaconda3\\lib\\site-packages (from gradio) (1.4.4)\n",
      "Requirement already satisfied: semantic-version~=2.0 in c:\\users\\shubhamgupta8\\anaconda3\\lib\\site-packages (from gradio) (2.10.0)\n",
      "Requirement already satisfied: packaging in c:\\users\\shubhamgupta8\\anaconda3\\lib\\site-packages (from gradio) (23.2)\n",
      "Requirement already satisfied: aiofiles<24.0,>=22.0 in c:\\users\\shubhamgupta8\\anaconda3\\lib\\site-packages (from gradio) (23.2.1)\n",
      "Requirement already satisfied: matplotlib~=3.0 in c:\\users\\shubhamgupta8\\anaconda3\\lib\\site-packages (from gradio) (3.5.2)\n",
      "Requirement already satisfied: pyyaml<7.0,>=5.0 in c:\\users\\shubhamgupta8\\anaconda3\\lib\\site-packages (from gradio) (6.0)\n",
      "Requirement already satisfied: websockets<12.0,>=10.0 in c:\\users\\shubhamgupta8\\anaconda3\\lib\\site-packages (from gradio) (11.0.3)\n",
      "Requirement already satisfied: numpy~=1.0 in c:\\users\\shubhamgupta8\\anaconda3\\lib\\site-packages (from gradio) (1.26.3)\n",
      "Requirement already satisfied: markupsafe~=2.0 in c:\\users\\shubhamgupta8\\anaconda3\\lib\\site-packages (from gradio) (2.0.1)\n",
      "Requirement already satisfied: requests~=2.0 in c:\\users\\shubhamgupta8\\anaconda3\\lib\\site-packages (from gradio) (2.28.1)\n",
      "Requirement already satisfied: huggingface-hub>=0.14.0 in c:\\users\\shubhamgupta8\\anaconda3\\lib\\site-packages (from gradio) (0.17.1)\n",
      "Requirement already satisfied: orjson~=3.0 in c:\\users\\shubhamgupta8\\anaconda3\\lib\\site-packages (from gradio) (3.9.7)\n",
      "Requirement already satisfied: fastapi in c:\\users\\shubhamgupta8\\anaconda3\\lib\\site-packages (from gradio) (0.103.1)\n",
      "Requirement already satisfied: pydantic!=1.8,!=1.8.1,!=2.0.0,!=2.0.1,<3.0.0,>=1.7.4 in c:\\users\\shubhamgupta8\\anaconda3\\lib\\site-packages (from gradio) (2.3.0)\n",
      "Requirement already satisfied: altair<6.0,>=4.2.0 in c:\\users\\shubhamgupta8\\anaconda3\\lib\\site-packages (from gradio) (5.1.1)\n",
      "Requirement already satisfied: python-multipart in c:\\users\\shubhamgupta8\\anaconda3\\lib\\site-packages (from gradio) (0.0.6)\n",
      "Requirement already satisfied: typing-extensions~=4.0 in c:\\users\\shubhamgupta8\\anaconda3\\lib\\site-packages (from gradio) (4.7.1)\n",
      "Requirement already satisfied: httpx in c:\\users\\shubhamgupta8\\anaconda3\\lib\\site-packages (from gradio) (0.25.0)\n",
      "Requirement already satisfied: pillow<11.0,>=8.0 in c:\\users\\shubhamgupta8\\anaconda3\\lib\\site-packages (from gradio) (9.2.0)\n",
      "Requirement already satisfied: pydub in c:\\users\\shubhamgupta8\\anaconda3\\lib\\site-packages (from gradio) (0.25.1)\n",
      "Requirement already satisfied: importlib-resources<7.0,>=1.3 in c:\\users\\shubhamgupta8\\anaconda3\\lib\\site-packages (from gradio) (6.0.1)\n",
      "Requirement already satisfied: jinja2<4.0 in c:\\users\\shubhamgupta8\\anaconda3\\lib\\site-packages (from gradio) (2.11.3)\n",
      "Requirement already satisfied: gradio-client==0.5.0 in c:\\users\\shubhamgupta8\\anaconda3\\lib\\site-packages (from gradio) (0.5.0)\n",
      "Requirement already satisfied: uvicorn>=0.14.0 in c:\\users\\shubhamgupta8\\anaconda3\\lib\\site-packages (from gradio) (0.23.2)\n",
      "Requirement already satisfied: fsspec in c:\\users\\shubhamgupta8\\anaconda3\\lib\\site-packages (from gradio-client==0.5.0->gradio) (2022.7.1)\n",
      "Requirement already satisfied: toolz in c:\\users\\shubhamgupta8\\anaconda3\\lib\\site-packages (from altair<6.0,>=4.2.0->gradio) (0.11.2)\n",
      "Requirement already satisfied: jsonschema>=3.0 in c:\\users\\shubhamgupta8\\anaconda3\\lib\\site-packages (from altair<6.0,>=4.2.0->gradio) (4.16.0)\n",
      "Requirement already satisfied: filelock in c:\\users\\shubhamgupta8\\anaconda3\\lib\\site-packages (from huggingface-hub>=0.14.0->gradio) (3.6.0)\n",
      "Requirement already satisfied: tqdm>=4.42.1 in c:\\users\\shubhamgupta8\\anaconda3\\lib\\site-packages (from huggingface-hub>=0.14.0->gradio) (4.66.1)\n",
      "Requirement already satisfied: zipp>=3.1.0 in c:\\users\\shubhamgupta8\\anaconda3\\lib\\site-packages (from importlib-resources<7.0,>=1.3->gradio) (3.8.0)\n",
      "Requirement already satisfied: python-dateutil>=2.7 in c:\\users\\shubhamgupta8\\anaconda3\\lib\\site-packages (from matplotlib~=3.0->gradio) (2.8.2)\n",
      "Requirement already satisfied: fonttools>=4.22.0 in c:\\users\\shubhamgupta8\\anaconda3\\lib\\site-packages (from matplotlib~=3.0->gradio) (4.25.0)\n",
      "Requirement already satisfied: cycler>=0.10 in c:\\users\\shubhamgupta8\\anaconda3\\lib\\site-packages (from matplotlib~=3.0->gradio) (0.11.0)\n",
      "Requirement already satisfied: pyparsing>=2.2.1 in c:\\users\\shubhamgupta8\\anaconda3\\lib\\site-packages (from matplotlib~=3.0->gradio) (3.0.9)\n",
      "Requirement already satisfied: kiwisolver>=1.0.1 in c:\\users\\shubhamgupta8\\anaconda3\\lib\\site-packages (from matplotlib~=3.0->gradio) (1.4.2)\n",
      "Requirement already satisfied: pytz>=2020.1 in c:\\users\\shubhamgupta8\\anaconda3\\lib\\site-packages (from pandas<3.0,>=1.0->gradio) (2022.1)\n",
      "Requirement already satisfied: pydantic-core==2.6.3 in c:\\users\\shubhamgupta8\\anaconda3\\lib\\site-packages (from pydantic!=1.8,!=1.8.1,!=2.0.0,!=2.0.1,<3.0.0,>=1.7.4->gradio) (2.6.3)\n",
      "Requirement already satisfied: annotated-types>=0.4.0 in c:\\users\\shubhamgupta8\\anaconda3\\lib\\site-packages (from pydantic!=1.8,!=1.8.1,!=2.0.0,!=2.0.1,<3.0.0,>=1.7.4->gradio) (0.5.0)\n",
      "Requirement already satisfied: certifi>=2017.4.17 in c:\\users\\shubhamgupta8\\anaconda3\\lib\\site-packages (from requests~=2.0->gradio) (2022.9.14)\n",
      "Requirement already satisfied: charset-normalizer<3,>=2 in c:\\users\\shubhamgupta8\\anaconda3\\lib\\site-packages (from requests~=2.0->gradio) (2.0.4)\n",
      "Requirement already satisfied: urllib3<1.27,>=1.21.1 in c:\\users\\shubhamgupta8\\anaconda3\\lib\\site-packages (from requests~=2.0->gradio) (1.26.11)\n",
      "Requirement already satisfied: idna<4,>=2.5 in c:\\users\\shubhamgupta8\\anaconda3\\lib\\site-packages (from requests~=2.0->gradio) (3.3)\n",
      "Requirement already satisfied: h11>=0.8 in c:\\users\\shubhamgupta8\\anaconda3\\lib\\site-packages (from uvicorn>=0.14.0->gradio) (0.14.0)\n",
      "Requirement already satisfied: click>=7.0 in c:\\users\\shubhamgupta8\\anaconda3\\lib\\site-packages (from uvicorn>=0.14.0->gradio) (8.0.4)\n",
      "Requirement already satisfied: starlette<0.28.0,>=0.27.0 in c:\\users\\shubhamgupta8\\anaconda3\\lib\\site-packages (from fastapi->gradio) (0.27.0)\n",
      "Requirement already satisfied: anyio<4.0.0,>=3.7.1 in c:\\users\\shubhamgupta8\\anaconda3\\lib\\site-packages (from fastapi->gradio) (3.7.1)\n",
      "Requirement already satisfied: sniffio in c:\\users\\shubhamgupta8\\anaconda3\\lib\\site-packages (from httpx->gradio) (1.2.0)\n",
      "Requirement already satisfied: httpcore<0.19.0,>=0.18.0 in c:\\users\\shubhamgupta8\\anaconda3\\lib\\site-packages (from httpx->gradio) (0.18.0)\n",
      "Requirement already satisfied: exceptiongroup in c:\\users\\shubhamgupta8\\anaconda3\\lib\\site-packages (from anyio<4.0.0,>=3.7.1->fastapi->gradio) (1.1.3)\n",
      "Requirement already satisfied: colorama in c:\\users\\shubhamgupta8\\anaconda3\\lib\\site-packages (from click>=7.0->uvicorn>=0.14.0->gradio) (0.4.5)\n",
      "Requirement already satisfied: pyrsistent!=0.17.0,!=0.17.1,!=0.17.2,>=0.14.0 in c:\\users\\shubhamgupta8\\anaconda3\\lib\\site-packages (from jsonschema>=3.0->altair<6.0,>=4.2.0->gradio) (0.18.0)\n",
      "Requirement already satisfied: attrs>=17.4.0 in c:\\users\\shubhamgupta8\\anaconda3\\lib\\site-packages (from jsonschema>=3.0->altair<6.0,>=4.2.0->gradio) (21.4.0)\n",
      "Requirement already satisfied: six>=1.5 in c:\\users\\shubhamgupta8\\anaconda3\\lib\\site-packages (from python-dateutil>=2.7->matplotlib~=3.0->gradio) (1.16.0)\n"
     ]
    }
   ],
   "source": [
    "!pip install gradio"
   ]
  },
  {
   "cell_type": "code",
   "execution_count": 144,
   "id": "16893e74",
   "metadata": {},
   "outputs": [
    {
     "name": "stderr",
     "output_type": "stream",
     "text": [
      "C:\\Users\\shubhamgupta8\\AppData\\Local\\Temp\\ipykernel_13632\\2423885747.py:20: GradioDeprecationWarning: Usage of gradio.inputs is deprecated, and will not be supported in the future, please import your component from gradio.components\n",
      "  inputs=gr.inputs.Textbox(lines=2, placeholder=\"Enter your question here...\", label=\"Question\"),\n",
      "C:\\Users\\shubhamgupta8\\AppData\\Local\\Temp\\ipykernel_13632\\2423885747.py:20: GradioDeprecationWarning: `optional` parameter is deprecated, and it has no effect\n",
      "  inputs=gr.inputs.Textbox(lines=2, placeholder=\"Enter your question here...\", label=\"Question\"),\n",
      "C:\\Users\\shubhamgupta8\\AppData\\Local\\Temp\\ipykernel_13632\\2423885747.py:20: GradioDeprecationWarning: `numeric` parameter is deprecated, and it has no effect\n",
      "  inputs=gr.inputs.Textbox(lines=2, placeholder=\"Enter your question here...\", label=\"Question\"),\n",
      "C:\\Users\\shubhamgupta8\\AppData\\Local\\Temp\\ipykernel_13632\\2423885747.py:22: GradioDeprecationWarning: Usage of gradio.outputs is deprecated, and will not be supported in the future, please import your components from gradio.components\n",
      "  gr.outputs.Textbox(label=\"Answer\"),\n",
      "C:\\Users\\shubhamgupta8\\AppData\\Local\\Temp\\ipykernel_13632\\2423885747.py:23: GradioDeprecationWarning: Usage of gradio.outputs is deprecated, and will not be supported in the future, please import your components from gradio.components\n",
      "  gr.outputs.Textbox(label=\"Reference Page Number\")\n"
     ]
    },
    {
     "name": "stdout",
     "output_type": "stream",
     "text": [
      "Running on local URL:  http://127.0.0.1:7866\n",
      "\n",
      "To create a public link, set `share=True` in `launch()`.\n"
     ]
    },
    {
     "data": {
      "text/html": [
       "<div><iframe src=\"http://127.0.0.1:7866/\" width=\"100%\" height=\"500\" allow=\"autoplay; camera; microphone; clipboard-read; clipboard-write;\" frameborder=\"0\" allowfullscreen></iframe></div>"
      ],
      "text/plain": [
       "<IPython.core.display.HTML object>"
      ]
     },
     "metadata": {},
     "output_type": "display_data"
    },
    {
     "data": {
      "text/plain": []
     },
     "execution_count": 144,
     "metadata": {},
     "output_type": "execute_result"
    }
   ],
   "source": [
    "import gradio as gr\n",
    "\n",
    "def answer_question(question_text):\n",
    "    # Assuming vectordb and qa_chain are already defined and imported\n",
    "    docs = vectordb.similarity_search(question_text, k=1)\n",
    "    \n",
    "    # Ensure the input to qa_chain is a dictionary with 'query' as the key\n",
    "    result = qa_chain({\"query\": question_text})\n",
    "    \n",
    "    # Extract the answer and the page number\n",
    "    answer = result[\"result\"]\n",
    "    page_no = result[\"source_documents\"][0].metadata[\"page\"] + 1  # Adjust for zero indexing if needed\n",
    "    \n",
    "    # Return the answer and the page number reference\n",
    "    return answer, f\"The answer can be referred from Page No. {page_no}\"\n",
    "\n",
    "# Define Gradio interface\n",
    "iface = gr.Interface(\n",
    "    fn=answer_question,\n",
    "    inputs=gr.inputs.Textbox(lines=2, placeholder=\"Enter your question here...\", label=\"Question\"),\n",
    "    outputs=[\n",
    "        gr.outputs.Textbox(label=\"Answer\"),\n",
    "        gr.outputs.Textbox(label=\"Reference Page Number\")\n",
    "    ],\n",
    "    title=\"Interactive KFS Document\",\n",
    "    description=\"Enter a question to find the answer from the document and the page number it refers to.\"\n",
    ")\n",
    "\n",
    "# Launch the interface\n",
    "iface.launch()\n"
   ]
  },
  {
   "cell_type": "code",
   "execution_count": null,
   "id": "6e3157e5",
   "metadata": {},
   "outputs": [],
   "source": []
  }
 ],
 "metadata": {
  "kernelspec": {
   "display_name": "Python 3 (ipykernel)",
   "language": "python",
   "name": "python3"
  },
  "language_info": {
   "codemirror_mode": {
    "name": "ipython",
    "version": 3
   },
   "file_extension": ".py",
   "mimetype": "text/x-python",
   "name": "python",
   "nbconvert_exporter": "python",
   "pygments_lexer": "ipython3",
   "version": "3.9.13"
  }
 },
 "nbformat": 4,
 "nbformat_minor": 5
}
